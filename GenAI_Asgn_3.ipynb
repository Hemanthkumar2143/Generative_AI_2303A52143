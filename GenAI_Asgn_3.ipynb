{
  "nbformat": 4,
  "nbformat_minor": 0,
  "metadata": {
    "colab": {
      "provenance": [],
      "authorship_tag": "ABX9TyNwN36zelnH6qpkJ9Ar6dzm",
      "include_colab_link": true
    },
    "kernelspec": {
      "name": "python3",
      "display_name": "Python 3"
    },
    "language_info": {
      "name": "python"
    }
  },
  "cells": [
    {
      "cell_type": "markdown",
      "metadata": {
        "id": "view-in-github",
        "colab_type": "text"
      },
      "source": [
        "<a href=\"https://colab.research.google.com/github/Hemanthkumar2143/Generative_AI_2303A52143/blob/main/GenAI_Asgn_3.ipynb\" target=\"_parent\"><img src=\"https://colab.research.google.com/assets/colab-badge.svg\" alt=\"Open In Colab\"/></a>"
      ]
    },
    {
      "cell_type": "markdown",
      "source": [
        "Question 1"
      ],
      "metadata": {
        "id": "jIjvvUederrD"
      }
    },
    {
      "cell_type": "code",
      "execution_count": 1,
      "metadata": {
        "colab": {
          "base_uri": "https://localhost:8080/"
        },
        "id": "_VWa5OzXeqqs",
        "outputId": "f151f8d8-9348-43a4-cc8f-4a3fce562e10"
      },
      "outputs": [
        {
          "output_type": "stream",
          "name": "stdout",
          "text": [
            "Minimum x: 1.4890329960269161e-05\n",
            "Function value at minimum x: 10.000000000665166\n",
            "Converged in 158 iterations.\n"
          ]
        }
      ],
      "source": [
        "\n",
        "def f_prime(x):\n",
        "    return 20 * x**3 + 6 * x\n",
        "\n",
        "\n",
        "def gradient_descent(x, learning_rate, max_iterations, tolerance):\n",
        "    for i in range(max_iterations):\n",
        "        gradient = f_prime(x)\n",
        "        x_new = x - learning_rate * gradient\n",
        "        if abs(x_new - x) < tolerance:\n",
        "            return x_new, i + 1\n",
        "        x = x_new\n",
        "    return x, max_iterations\n",
        "\n",
        "x_initial = 2.0\n",
        "learning_rate = 0.01\n",
        "max_iterations = 1000\n",
        "tolerance = 1e-6\n",
        "\n",
        "min_x, iterations = gradient_descent(x_initial, learning_rate, max_iterations, tolerance)\n",
        "min_f = 5 * min_x**4 + 3 * min_x**2 + 10\n",
        "\n",
        "print(f\"Minimum x: {min_x}\")\n",
        "print(f\"Function value at minimum x: {min_f}\")\n",
        "print(f\"Converged in {iterations} iterations.\")"
      ]
    },
    {
      "cell_type": "markdown",
      "source": [
        "2nd"
      ],
      "metadata": {
        "id": "GNc8pv4TfKXd"
      }
    },
    {
      "cell_type": "code",
      "source": [
        "def g_x(x):\n",
        "    return 6 * x\n",
        "def g_y(y):\n",
        "    return -5 * (2.71828**(-y))\n",
        "def gradient_descent_2d(x, y, learning_rate, max_iterations, tolerance):\n",
        "    for i in range(max_iterations):\n",
        "\n",
        "        grad_x = g_x(x)\n",
        "        grad_y = g_y(y)\n",
        "        x_new = x - learning_rate * grad_x\n",
        "        y_new = y - learning_rate * grad_y\n",
        "\n",
        "\n",
        "        if abs(x_new - x) < tolerance and abs(y_new - y) < tolerance:\n",
        "            return x_new, y_new, i + 1\n",
        "        x, y = x_new, y_new\n",
        "\n",
        "    return x, y, max_iterations\n",
        "\n",
        "x_initial = 1.0\n",
        "y_initial = 1.0\n",
        "learning_rate = 0.01\n",
        "max_iterations = 1000\n",
        "tolerance = 1e-6\n",
        "min_x, min_y, iterations = gradient_descent_2d(x_initial, y_initial, learning_rate, max_iterations, tolerance)\n",
        "min_g = 3 * min_x**2 + 5 * (2.71828**(-min_y)) + 10\n",
        "\n",
        "print(f\"Minimum x: {min_x}\")\n",
        "print(f\"Minimum y: {min_y}\")\n",
        "print(f\"Function value at minimum: {min_g}\")\n",
        "print(f\"Converged in {iterations} iterations.\")"
      ],
      "metadata": {
        "colab": {
          "base_uri": "https://localhost:8080/"
        },
        "id": "jByUu9enfMEr",
        "outputId": "48d7d8ed-0b69-42f8-a2d4-1d50403cdaa2"
      },
      "execution_count": 2,
      "outputs": [
        {
          "output_type": "stream",
          "name": "stdout",
          "text": [
            "Minimum x: 1.3423123924933694e-27\n",
            "Minimum y: 3.966372788969171\n",
            "Function value at minimum: 10.094710329515651\n",
            "Converged in 1000 iterations.\n"
          ]
        }
      ]
    },
    {
      "cell_type": "markdown",
      "source": [
        "3rd"
      ],
      "metadata": {
        "id": "GZbqVCX1fWNp"
      }
    },
    {
      "cell_type": "code",
      "source": [
        "def z(x):\n",
        "    return 1 / (1 + 2.71828**(-x))\n",
        "\n",
        "def z_prime(x):\n",
        "    sigmoid = z(x)\n",
        "    return sigmoid * (1 - sigmoid)\n",
        "\n",
        "\n",
        "def gradient_descent(initial_x, learning_rate, max_iterations, tolerance):\n",
        "    x = initial_x\n",
        "    for i in range(max_iterations):\n",
        "        gradient = z_prime(x)\n",
        "        x_new = x - learning_rate * gradient\n",
        "\n",
        "\n",
        "        if abs(x_new - x) < tolerance:\n",
        "            return x_new, i + 1\n",
        "\n",
        "        x = x_new\n",
        "\n",
        "    return x, max_iterations\n",
        "\n",
        "initial_x = 0.0\n",
        "learning_rate = 0.1\n",
        "max_iterations = 1000\n",
        "tolerance = 1e-6\n",
        "\n",
        "min_x, iterations = gradient_descent(initial_x, learning_rate, max_iterations, tolerance)\n",
        "\n",
        "print(f\"Minimum x: {min_x}\")\n",
        "print(f\"Converged in {iterations} iterations.\")"
      ],
      "metadata": {
        "colab": {
          "base_uri": "https://localhost:8080/"
        },
        "id": "1MlFDwvdfXV6",
        "outputId": "41b592f7-1505-4039-898b-2f5b413c65bc"
      },
      "execution_count": 3,
      "outputs": [
        {
          "output_type": "stream",
          "name": "stdout",
          "text": [
            "Minimum x: -4.512438801965497\n",
            "Converged in 1000 iterations.\n"
          ]
        }
      ]
    },
    {
      "cell_type": "markdown",
      "source": [
        "4th"
      ],
      "metadata": {
        "id": "XuD3IX6rfdS-"
      }
    },
    {
      "cell_type": "code",
      "source": [
        "# y= mx+c"
      ],
      "metadata": {
        "id": "TtQWOYhjfeCo"
      },
      "execution_count": 4,
      "outputs": []
    },
    {
      "cell_type": "code",
      "source": [
        "import random\n",
        "import numpy as np\n",
        "\n",
        "eta=0.001\n",
        "epochs = 1000\n",
        "m=random.uniform(-10,10)\n",
        "c=random.uniform(-10,10)\n",
        "x=2\n",
        "ep=0.5\n",
        "se=0"
      ],
      "metadata": {
        "id": "-gmWbn_qflAC"
      },
      "execution_count": 8,
      "outputs": []
    },
    {
      "cell_type": "code",
      "source": [
        "for i in range(epochs):\n",
        "  grad_x=x\n",
        "  grad_y=1\n",
        "  delx=-eta*grad_x\n",
        "  dely=-eta*grad_y\n",
        "  m=m+delx\n",
        "  c=c+dely\n",
        "  y=m*x+c\n",
        "  se=min(se,(y-ep)**2)"
      ],
      "metadata": {
        "id": "EuPjWPAafp6-"
      },
      "execution_count": 9,
      "outputs": []
    },
    {
      "cell_type": "code",
      "source": [
        "print(np.round(m))\n",
        "print(np.round(c))"
      ],
      "metadata": {
        "colab": {
          "base_uri": "https://localhost:8080/"
        },
        "id": "0AQvZ4bZftrc",
        "outputId": "c0e04c69-413b-4dd1-a633-63b9a21a2027"
      },
      "execution_count": 10,
      "outputs": [
        {
          "output_type": "stream",
          "name": "stdout",
          "text": [
            "-5.0\n",
            "-3.0\n"
          ]
        }
      ]
    },
    {
      "cell_type": "code",
      "source": [
        "print(se)"
      ],
      "metadata": {
        "colab": {
          "base_uri": "https://localhost:8080/"
        },
        "id": "UDA-7aQGf9Wp",
        "outputId": "4eb3122b-d369-41bd-bb3c-1bf3f69e8ce7"
      },
      "execution_count": 11,
      "outputs": [
        {
          "output_type": "stream",
          "name": "stdout",
          "text": [
            "0\n"
          ]
        }
      ]
    }
  ]
}