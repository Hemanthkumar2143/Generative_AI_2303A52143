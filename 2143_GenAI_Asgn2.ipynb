{
  "nbformat": 4,
  "nbformat_minor": 0,
  "metadata": {
    "colab": {
      "provenance": [],
      "authorship_tag": "ABX9TyMCYtBvtpgTgso3Ta9PGeTp",
      "include_colab_link": true
    },
    "kernelspec": {
      "name": "python3",
      "display_name": "Python 3"
    },
    "language_info": {
      "name": "python"
    }
  },
  "cells": [
    {
      "cell_type": "markdown",
      "metadata": {
        "id": "view-in-github",
        "colab_type": "text"
      },
      "source": [
        "<a href=\"https://colab.research.google.com/github/Hemanthkumar2143/Generative_AI_2303A52143/blob/main/2143_GenAI_Asgn2.ipynb\" target=\"_parent\"><img src=\"https://colab.research.google.com/assets/colab-badge.svg\" alt=\"Open In Colab\"/></a>"
      ]
    },
    {
      "cell_type": "markdown",
      "source": [
        "Question 1"
      ],
      "metadata": {
        "id": "_NWOt7KibMZb"
      }
    },
    {
      "cell_type": "code",
      "execution_count": 1,
      "metadata": {
        "colab": {
          "base_uri": "https://localhost:8080/"
        },
        "id": "oYxwCOeYbKwn",
        "outputId": "b2033543-949f-4223-c9d0-3a981239e23c"
      },
      "outputs": [
        {
          "output_type": "stream",
          "name": "stdout",
          "text": [
            "Optimal Production:\n",
            "Chocolate A: 2.00 units\n",
            "Chocolate B: 3.00 units\n",
            "Maximum Profit: ₹27.00\n"
          ]
        }
      ],
      "source": [
        "from scipy.optimize import linprog\n",
        "\n",
        "profit = [-6, -5]\n",
        "\n",
        "constraints = [\n",
        "    [1, 1],\n",
        "    [3, 2]\n",
        "]\n",
        "bounds = [5, 12]\n",
        "\n",
        "\n",
        "variable_bounds = [(0, None), (0, None)]\n",
        "\n",
        "result = linprog(c=profit, A_ub=constraints, b_ub=bounds, bounds=variable_bounds, method=\"highs\")\n",
        "\n",
        "if result.success:\n",
        "    print(\"Optimal Production:\")\n",
        "    print(f\"Chocolate A: {result.x[0]:.2f} units\")\n",
        "    print(f\"Chocolate B: {result.x[1]:.2f} units\")\n",
        "    print(f\"Maximum Profit: ₹{-result.fun:.2f}\")\n",
        "else:\n",
        "    print(\"No optimal solution found.\")"
      ]
    },
    {
      "cell_type": "markdown",
      "source": [
        "Question 2"
      ],
      "metadata": {
        "id": "jDkX81Ewbb4G"
      }
    },
    {
      "cell_type": "code",
      "source": [
        "from scipy.optimize import linprog\n",
        "\n",
        "profit = [-50, -120]\n",
        "\n",
        "constraints = [\n",
        "    [1, 1],\n",
        "    [7000, 2000],\n",
        "    [10, 30]\n",
        "]\n",
        "bounds = [110, 700000, 1200]\n",
        "variable_bounds = [(0, None), (0, None)]\n",
        "\n",
        "result = linprog(c=profit, A_ub=constraints, b_ub=bounds, bounds=variable_bounds, method=\"highs\")\n",
        "\n",
        "print(\"Optimal Area Allocation:\")\n",
        "print(f\"Wheat (x1): {result.x[0]:.2f} hectares\")\n",
        "print(f\"Barley (x2): {result.x[1]:.2f} hectares\")\n",
        "print(f\"Maximum Profit: ₹{(-result.fun):.2f}\")"
      ],
      "metadata": {
        "colab": {
          "base_uri": "https://localhost:8080/"
        },
        "id": "CKxlXy9Rbc-i",
        "outputId": "6c571037-043a-4bd7-f544-2adfa187d9e6"
      },
      "execution_count": 2,
      "outputs": [
        {
          "output_type": "stream",
          "name": "stdout",
          "text": [
            "Optimal Area Allocation:\n",
            "Wheat (x1): 97.89 hectares\n",
            "Barley (x2): 7.37 hectares\n",
            "Maximum Profit: ₹5778.95\n"
          ]
        }
      ]
    }
  ]
}